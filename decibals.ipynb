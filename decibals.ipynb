{
 "cells": [
  {
   "cell_type": "code",
   "execution_count": 2,
   "id": "18c24a49-b21b-483e-84f0-5bf6222aa80f",
   "metadata": {},
   "outputs": [
    {
     "data": {
      "text/plain": [
       "'The following table lists the sound level in decibels for several common noises.\\nWrite a program that reads a sound level in decibels from the user. If the user enters a decibel\\nlevel that matches one of the noises in the table then your program should display a message containing only that noise. If the user enters a number of decibels between the noises listed\\nthen your program should display a message indicating which noises the level is between.\\nEnsure that your program also generates reasonable output for a value smaller than the quietest\\nnoise in the table, and for a value larger than the loudest noise in the table.\\nis there any way to implement without using if else and what is the most efficient way'"
      ]
     },
     "execution_count": 2,
     "metadata": {},
     "output_type": "execute_result"
    }
   ],
   "source": [
    "\"\"\"The following table lists the sound level in decibels for several common noises.\n",
    "Write a program that reads a sound level in decibels from the user. If the user enters a decibel\n",
    "level that matches one of the noises in the table then your program should display a message containing only that noise. If the user enters a number of decibels between the noises listed\n",
    "then your program should display a message indicating which noises the level is between.\n",
    "Ensure that your program also generates reasonable output for a value smaller than the quietest\n",
    "noise in the table, and for a value larger than the loudest noise in the table.\n",
    "is there any way to implement without using if else and what is the most efficient way\"\"\""
   ]
  },
  {
   "cell_type": "code",
   "execution_count": 21,
   "id": "0069b714-e635-4428-853f-0e39cdb9c5d8",
   "metadata": {},
   "outputs": [],
   "source": [
    "def decibals(sound):\n",
    "    noises={\n",
    "        40:\"Quiet Room\",\n",
    "        70:\"Alarm Clock\",\n",
    "        106:\"Gas Lawnmover\",\n",
    "        130:\"Jackhammer\"\n",
    "    }\n",
    "    if sound in noises:\n",
    "        return f\"Sound is of {noises[sound]}\"\n",
    "\n",
    "    sorted_decibels = sorted(noises.keys())\n",
    "    \n",
    "    if sound < sorted_decibels[0]:\n",
    "        return f\"Quieter than {noises[sorted_decibels[0]]}\"\n",
    "    elif sound > sorted_decibels[-1]:\n",
    "        return f\"Louder than {noises[sorted_decibels[-1]]}\"\n",
    "    else:\n",
    "        lower = max([d for d in sorted_decibels if d < sound])\n",
    "        upper = min([d for d in sorted_decibels if d > sound])\n",
    "        return f\"Between {noises[lower]} and {noises[upper]}\"\n",
    "    "
   ]
  },
  {
   "cell_type": "code",
   "execution_count": 22,
   "id": "7d9048dc-b214-41c2-95ad-59d001bd1cb1",
   "metadata": {},
   "outputs": [
    {
     "data": {
      "text/plain": [
       "'Sound is of Jackhammer'"
      ]
     },
     "execution_count": 22,
     "metadata": {},
     "output_type": "execute_result"
    }
   ],
   "source": [
    "decibals(130)"
   ]
  },
  {
   "cell_type": "code",
   "execution_count": 23,
   "id": "bc7b2192-cda4-485c-89f7-bc799f4015ea",
   "metadata": {},
   "outputs": [
    {
     "data": {
      "text/plain": [
       "'Between Gas Lawnmover and Jackhammer'"
      ]
     },
     "execution_count": 23,
     "metadata": {},
     "output_type": "execute_result"
    }
   ],
   "source": [
    "decibals(125)"
   ]
  },
  {
   "cell_type": "code",
   "execution_count": 24,
   "id": "1935def0-ed1a-422a-bbb2-bb7829af729a",
   "metadata": {},
   "outputs": [
    {
     "data": {
      "text/plain": [
       "'Louder than Jackhammer'"
      ]
     },
     "execution_count": 24,
     "metadata": {},
     "output_type": "execute_result"
    }
   ],
   "source": [
    "decibals(500)"
   ]
  },
  {
   "cell_type": "code",
   "execution_count": 25,
   "id": "429ba6f3-910b-4788-b2ba-3870054609df",
   "metadata": {},
   "outputs": [
    {
     "data": {
      "text/plain": [
       "'Quieter than Quiet Room'"
      ]
     },
     "execution_count": 25,
     "metadata": {},
     "output_type": "execute_result"
    }
   ],
   "source": [
    "decibals(0)"
   ]
  },
  {
   "cell_type": "code",
   "execution_count": null,
   "id": "f0398d88-6e67-49b2-997c-f43b025a2a0d",
   "metadata": {},
   "outputs": [],
   "source": []
  }
 ],
 "metadata": {
  "kernelspec": {
   "display_name": "Python 3 (ipykernel)",
   "language": "python",
   "name": "python3"
  },
  "language_info": {
   "codemirror_mode": {
    "name": "ipython",
    "version": 3
   },
   "file_extension": ".py",
   "mimetype": "text/x-python",
   "name": "python",
   "nbconvert_exporter": "python",
   "pygments_lexer": "ipython3",
   "version": "3.11.3"
  }
 },
 "nbformat": 4,
 "nbformat_minor": 5
}
