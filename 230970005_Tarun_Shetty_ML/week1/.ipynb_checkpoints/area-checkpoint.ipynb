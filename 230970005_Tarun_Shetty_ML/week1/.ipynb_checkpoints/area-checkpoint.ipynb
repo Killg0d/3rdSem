{
 "cells": [
  {
   "cell_type": "code",
   "execution_count": null,
   "id": "3633417c",
   "metadata": {},
   "outputs": [],
   "source": [
    " \"\"\"Create a program that reads the length and width of a farmer’s field from the user in \n",
    "feet. Display the area of the field in acres. \n",
    "Hint: There are 43,560 square feet in an acre.\"\"\" "
   ]
  },
  {
   "cell_type": "code",
   "execution_count": null,
   "id": "31fa760f",
   "metadata": {},
   "outputs": [],
   "source": [
    "length=int(input(\"Enter the length:\"))"
   ]
  },
  {
   "cell_type": "code",
   "execution_count": null,
   "id": "55c5dce9",
   "metadata": {},
   "outputs": [],
   "source": [
    "width=float(input(\"Enter the width:\"))"
   ]
  },
  {
   "cell_type": "code",
   "execution_count": null,
   "id": "17296d75",
   "metadata": {},
   "outputs": [],
   "source": [
    "\"\"\"Area in acre\"\"\"\n",
    "area=length*width/43560"
   ]
  },
  {
   "cell_type": "code",
   "execution_count": null,
   "id": "e2765cc6",
   "metadata": {},
   "outputs": [],
   "source": [
    "print(\"Area of the farmers feild:\",area,\"acres\")"
   ]
  },
  {
   "cell_type": "code",
   "execution_count": null,
   "id": "d28ccc59",
   "metadata": {},
   "outputs": [],
   "source": []
  },
  {
   "cell_type": "code",
   "execution_count": null,
   "id": "71860ffb",
   "metadata": {},
   "outputs": [],
   "source": []
  }
 ],
 "metadata": {
  "kernelspec": {
   "display_name": "Python 3 (ipykernel)",
   "language": "python",
   "name": "python3"
  },
  "language_info": {
   "codemirror_mode": {
    "name": "ipython",
    "version": 3
   },
   "file_extension": ".py",
   "mimetype": "text/x-python",
   "name": "python",
   "nbconvert_exporter": "python",
   "pygments_lexer": "ipython3",
   "version": "3.9.13"
  }
 },
 "nbformat": 4,
 "nbformat_minor": 5
}
