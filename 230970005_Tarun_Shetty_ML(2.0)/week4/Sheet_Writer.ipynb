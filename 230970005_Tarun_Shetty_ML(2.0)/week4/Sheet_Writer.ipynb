{
 "cells": [
  {
   "cell_type": "code",
   "execution_count": 9,
   "id": "fb9735a5",
   "metadata": {},
   "outputs": [
    {
     "name": "stdout",
     "output_type": "stream",
     "text": [
      "         Fruits  Sales in kg\n",
      "0        Appple           20\n",
      "1        Banana           30\n",
      "2         Mango           15\n",
      "3  Dragon Fruit           10\n",
      "4    Musk melon           50\n",
      "5        grapes           40\n",
      "      Vegetables  Sales in kg\n",
      "0         random          200\n",
      "1          Onion          310\n",
      "2  ladies finger          115\n",
      "3          beans          110\n",
      "4        bedroot           55\n",
      "5         carrot           45\n",
      "  Baked Items  Sales in kg\n",
      "0       Cakes          120\n",
      "1    biscuits          130\n",
      "2     muffins          159\n",
      "3        Rusk          310\n",
      "4       puffs          150\n",
      "5    cupcakes          140\n"
     ]
    },
    {
     "ename": "ValueError",
     "evalue": "Sheet 'Fruits' already exists and if_sheet_exists is set to 'error'.",
     "output_type": "error",
     "traceback": [
      "\u001b[1;31m---------------------------------------------------------------------------\u001b[0m",
      "\u001b[1;31mValueError\u001b[0m                                Traceback (most recent call last)",
      "\u001b[1;32m~\\AppData\\Local\\Temp\\ipykernel_21360\\1249940837.py\u001b[0m in \u001b[0;36m<module>\u001b[1;34m\u001b[0m\n\u001b[0;32m     29\u001b[0m     \u001b[1;31m# use to_excel function and specify the sheet_name and index\u001b[0m\u001b[1;33m\u001b[0m\u001b[1;33m\u001b[0m\u001b[0m\n\u001b[0;32m     30\u001b[0m     \u001b[1;31m# to store the dataframe in specified sheet\u001b[0m\u001b[1;33m\u001b[0m\u001b[1;33m\u001b[0m\u001b[0m\n\u001b[1;32m---> 31\u001b[1;33m     \u001b[0mdata_frame1\u001b[0m\u001b[1;33m.\u001b[0m\u001b[0mto_excel\u001b[0m\u001b[1;33m(\u001b[0m\u001b[0mwriter\u001b[0m\u001b[1;33m,\u001b[0m \u001b[0msheet_name\u001b[0m\u001b[1;33m=\u001b[0m\u001b[1;34m\"Fruits\"\u001b[0m\u001b[1;33m,\u001b[0m \u001b[0mindex\u001b[0m\u001b[1;33m=\u001b[0m\u001b[1;32mFalse\u001b[0m\u001b[1;33m)\u001b[0m\u001b[1;33m\u001b[0m\u001b[1;33m\u001b[0m\u001b[0m\n\u001b[0m\u001b[0;32m     32\u001b[0m \u001b[1;33m\u001b[0m\u001b[0m\n",
      "\u001b[1;32mC:\\ProgramData\\Anaconda3\\lib\\site-packages\\pandas\\core\\generic.py\u001b[0m in \u001b[0;36mto_excel\u001b[1;34m(self, excel_writer, sheet_name, na_rep, float_format, columns, header, index, index_label, startrow, startcol, engine, merge_cells, encoding, inf_rep, verbose, freeze_panes, storage_options)\u001b[0m\n\u001b[0;32m   2343\u001b[0m             \u001b[0minf_rep\u001b[0m\u001b[1;33m=\u001b[0m\u001b[0minf_rep\u001b[0m\u001b[1;33m,\u001b[0m\u001b[1;33m\u001b[0m\u001b[1;33m\u001b[0m\u001b[0m\n\u001b[0;32m   2344\u001b[0m         )\n\u001b[1;32m-> 2345\u001b[1;33m         formatter.write(\n\u001b[0m\u001b[0;32m   2346\u001b[0m             \u001b[0mexcel_writer\u001b[0m\u001b[1;33m,\u001b[0m\u001b[1;33m\u001b[0m\u001b[1;33m\u001b[0m\u001b[0m\n\u001b[0;32m   2347\u001b[0m             \u001b[0msheet_name\u001b[0m\u001b[1;33m=\u001b[0m\u001b[0msheet_name\u001b[0m\u001b[1;33m,\u001b[0m\u001b[1;33m\u001b[0m\u001b[1;33m\u001b[0m\u001b[0m\n",
      "\u001b[1;32mC:\\ProgramData\\Anaconda3\\lib\\site-packages\\pandas\\io\\formats\\excel.py\u001b[0m in \u001b[0;36mwrite\u001b[1;34m(self, writer, sheet_name, startrow, startcol, freeze_panes, engine, storage_options)\u001b[0m\n\u001b[0;32m    892\u001b[0m \u001b[1;33m\u001b[0m\u001b[0m\n\u001b[0;32m    893\u001b[0m         \u001b[1;32mtry\u001b[0m\u001b[1;33m:\u001b[0m\u001b[1;33m\u001b[0m\u001b[1;33m\u001b[0m\u001b[0m\n\u001b[1;32m--> 894\u001b[1;33m             writer.write_cells(\n\u001b[0m\u001b[0;32m    895\u001b[0m                 \u001b[0mformatted_cells\u001b[0m\u001b[1;33m,\u001b[0m\u001b[1;33m\u001b[0m\u001b[1;33m\u001b[0m\u001b[0m\n\u001b[0;32m    896\u001b[0m                 \u001b[0msheet_name\u001b[0m\u001b[1;33m,\u001b[0m\u001b[1;33m\u001b[0m\u001b[1;33m\u001b[0m\u001b[0m\n",
      "\u001b[1;32mC:\\ProgramData\\Anaconda3\\lib\\site-packages\\pandas\\io\\excel\\_openpyxl.py\u001b[0m in \u001b[0;36mwrite_cells\u001b[1;34m(self, cells, sheet_name, startrow, startcol, freeze_panes)\u001b[0m\n\u001b[0;32m    435\u001b[0m                     \u001b[0mself\u001b[0m\u001b[1;33m.\u001b[0m\u001b[0msheets\u001b[0m\u001b[1;33m[\u001b[0m\u001b[0msheet_name\u001b[0m\u001b[1;33m]\u001b[0m \u001b[1;33m=\u001b[0m \u001b[0mwks\u001b[0m\u001b[1;33m\u001b[0m\u001b[1;33m\u001b[0m\u001b[0m\n\u001b[0;32m    436\u001b[0m                 \u001b[1;32melif\u001b[0m \u001b[0mself\u001b[0m\u001b[1;33m.\u001b[0m\u001b[0mif_sheet_exists\u001b[0m \u001b[1;33m==\u001b[0m \u001b[1;34m\"error\"\u001b[0m\u001b[1;33m:\u001b[0m\u001b[1;33m\u001b[0m\u001b[1;33m\u001b[0m\u001b[0m\n\u001b[1;32m--> 437\u001b[1;33m                     raise ValueError(\n\u001b[0m\u001b[0;32m    438\u001b[0m                         \u001b[1;34mf\"Sheet '{sheet_name}' already exists and \"\u001b[0m\u001b[1;33m\u001b[0m\u001b[1;33m\u001b[0m\u001b[0m\n\u001b[0;32m    439\u001b[0m                         \u001b[1;34mf\"if_sheet_exists is set to 'error'.\"\u001b[0m\u001b[1;33m\u001b[0m\u001b[1;33m\u001b[0m\u001b[0m\n",
      "\u001b[1;31mValueError\u001b[0m: Sheet 'Fruits' already exists and if_sheet_exists is set to 'error'."
     ]
    }
   ],
   "source": [
    "# import the python pandas package\n",
    "import pandas as pd\n",
    " \n",
    "# create  data_frame1 by creating a dictionary\n",
    "# in which values are stored as list\n",
    "data_frame1 = pd.DataFrame({'Fruits': ['Appple', 'Banana', 'Mango',\n",
    "                                       'Dragon Fruit', 'Musk melon', 'grapes'],\n",
    "                            'Sales in kg': [20, 30, 15, 10, 50, 40]})\n",
    " \n",
    "# create  data_frame2 by creating a dictionary \n",
    "# in which values are stored as list\n",
    "data_frame2 = pd.DataFrame({'Vegetables': ['random', 'Onion', 'ladies finger',\n",
    "                                           'beans', 'bedroot', 'carrot'],\n",
    "                            'Sales in kg': [200, 310, 115, 110, 55, 45]})\n",
    " \n",
    "# create  data_frame3 by creating a dictionary \n",
    "# in which values are stored as list\n",
    "data_frame3 = pd.DataFrame({'Baked Items': ['Cakes', 'biscuits', 'muffins',\n",
    "                                            'Rusk', 'puffs', 'cupcakes'],\n",
    "                            'Sales in kg': [120, 130, 159, 310, 150, 140]})\n",
    " \n",
    "print(data_frame1)\n",
    "print(data_frame2)\n",
    "print(data_frame3)\n",
    " \n",
    "# create a excel writer object\n",
    "with pd.ExcelWriter(\"filename.xlsx\",mode='a',engine=\"openpyxl\") as writer:\n",
    "   \n",
    "    # use to_excel function and specify the sheet_name and index \n",
    "    # to store the dataframe in specified sheet\n",
    "    data_frame1.to_excel(writer, sheet_name=\"Fruits\", index=False)\n",
    "    "
   ]
  },
  {
   "cell_type": "code",
   "execution_count": 10,
   "id": "482ff9bf",
   "metadata": {},
   "outputs": [],
   "source": [
    "with pd.ExcelWriter(\"filename.xlsx\",mode='a',engine=\"openpyxl\",if_sheet_exists='replace') as writer:\n",
    "    data_frame2.to_excel(writer, sheet_name=\"Vegetables\", index=False)\n",
    "    data_frame3.to_excel(writer, sheet_name=\"Baked Items\", index=False)"
   ]
  },
  {
   "cell_type": "code",
   "execution_count": null,
   "id": "73bebc63",
   "metadata": {},
   "outputs": [],
   "source": []
  }
 ],
 "metadata": {
  "kernelspec": {
   "display_name": "Python 3 (ipykernel)",
   "language": "python",
   "name": "python3"
  },
  "language_info": {
   "codemirror_mode": {
    "name": "ipython",
    "version": 3
   },
   "file_extension": ".py",
   "mimetype": "text/x-python",
   "name": "python",
   "nbconvert_exporter": "python",
   "pygments_lexer": "ipython3",
   "version": "3.9.13"
  }
 },
 "nbformat": 4,
 "nbformat_minor": 5
}
