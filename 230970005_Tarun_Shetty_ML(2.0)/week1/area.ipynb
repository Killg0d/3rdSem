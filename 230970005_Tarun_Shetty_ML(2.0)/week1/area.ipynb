{
 "cells": [
  {
   "cell_type": "code",
   "execution_count": 1,
   "id": "5606f0c7",
   "metadata": {},
   "outputs": [
    {
     "data": {
      "text/plain": [
       "'Create a program that reads the length and width of a farmer’s field from the user in \\nfeet. Display the area of the field in acres. \\nHint: There are 43,560 square feet in an acre.'"
      ]
     },
     "execution_count": 1,
     "metadata": {},
     "output_type": "execute_result"
    }
   ],
   "source": [
    " \"\"\"Create a program that reads the length and width of a farmer’s field from the user in \n",
    "feet. Display the area of the field in acres. \n",
    "Hint: There are 43,560 square feet in an acre.\"\"\" "
   ]
  },
  {
   "cell_type": "code",
   "execution_count": 2,
   "id": "fdfa8753",
   "metadata": {},
   "outputs": [
    {
     "name": "stdin",
     "output_type": "stream",
     "text": [
      "Enter the length: 10\n"
     ]
    }
   ],
   "source": [
    "length=float(input(\"Enter the length:\"))"
   ]
  },
  {
   "cell_type": "code",
   "execution_count": 3,
   "id": "24dc5d2b",
   "metadata": {},
   "outputs": [
    {
     "name": "stdin",
     "output_type": "stream",
     "text": [
      "Enter the width: 20\n"
     ]
    }
   ],
   "source": [
    "width=float(input(\"Enter the width:\"))"
   ]
  },
  {
   "cell_type": "code",
   "execution_count": 4,
   "id": "1987e89a",
   "metadata": {},
   "outputs": [],
   "source": [
    "\"\"\"Area in acre\"\"\"\n",
    "area=length*width/43560"
   ]
  },
  {
   "cell_type": "code",
   "execution_count": 5,
   "id": "5dbb259f",
   "metadata": {},
   "outputs": [
    {
     "name": "stdout",
     "output_type": "stream",
     "text": [
      "Area of the farmers feild: 0.004591368227731864 acres\n"
     ]
    }
   ],
   "source": [
    "print(\"Area of the farmers feild:\",area,\"acres\")"
   ]
  },
  {
   "cell_type": "code",
   "execution_count": null,
   "id": "725a7d1b",
   "metadata": {},
   "outputs": [],
   "source": []
  },
  {
   "cell_type": "code",
   "execution_count": null,
   "id": "86dc7236",
   "metadata": {},
   "outputs": [],
   "source": []
  }
 ],
 "metadata": {
  "kernelspec": {
   "display_name": "Python 3 (ipykernel)",
   "language": "python",
   "name": "python3"
  },
  "language_info": {
   "codemirror_mode": {
    "name": "ipython",
    "version": 3
   },
   "file_extension": ".py",
   "mimetype": "text/x-python",
   "name": "python",
   "nbconvert_exporter": "python",
   "pygments_lexer": "ipython3",
   "version": "3.11.3"
  }
 },
 "nbformat": 4,
 "nbformat_minor": 5
}
