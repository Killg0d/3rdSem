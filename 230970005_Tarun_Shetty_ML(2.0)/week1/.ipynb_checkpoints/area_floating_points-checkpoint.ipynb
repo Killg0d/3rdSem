{
 "cells": [
  {
   "cell_type": "code",
   "execution_count": 4,
   "id": "5227e945",
   "metadata": {},
   "outputs": [
    {
     "name": "stdout",
     "output_type": "stream",
     "text": [
      "Enter the length:1300.7\n",
      "Enter the width:1240.354\n"
     ]
    }
   ],
   "source": [
    "length=float(input(\"Enter the length:\"))\n",
    "width=float(input(\"Enter the width:\"))"
   ]
  },
  {
   "cell_type": "code",
   "execution_count": 5,
   "id": "439a86ee",
   "metadata": {},
   "outputs": [],
   "source": [
    "area=length*width"
   ]
  },
  {
   "cell_type": "code",
   "execution_count": 7,
   "id": "0147ec1c",
   "metadata": {},
   "outputs": [
    {
     "name": "stdout",
     "output_type": "stream",
     "text": [
      "Area of the room=  1613328.4478000002 meters\n"
     ]
    }
   ],
   "source": [
    "print(\"Area of the room= \",area,\"meters\")"
   ]
  },
  {
   "cell_type": "code",
   "execution_count": null,
   "id": "ac8ef49a",
   "metadata": {},
   "outputs": [],
   "source": []
  }
 ],
 "metadata": {
  "kernelspec": {
   "display_name": "Python 3 (ipykernel)",
   "language": "python",
   "name": "python3"
  },
  "language_info": {
   "codemirror_mode": {
    "name": "ipython",
    "version": 3
   },
   "file_extension": ".py",
   "mimetype": "text/x-python",
   "name": "python",
   "nbconvert_exporter": "python",
   "pygments_lexer": "ipython3",
   "version": "3.9.13"
  }
 },
 "nbformat": 4,
 "nbformat_minor": 5
}
