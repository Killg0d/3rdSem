{
 "cells": [
  {
   "cell_type": "code",
   "execution_count": 1,
   "id": "5227e945",
   "metadata": {},
   "outputs": [
    {
     "name": "stdin",
     "output_type": "stream",
     "text": [
      "Enter the length: 10.2\n",
      "Enter the width: 20.3\n"
     ]
    }
   ],
   "source": [
    "length=float(input(\"Enter the length:\"))\n",
    "width=float(input(\"Enter the width:\"))"
   ]
  },
  {
   "cell_type": "code",
   "execution_count": 2,
   "id": "439a86ee",
   "metadata": {},
   "outputs": [],
   "source": [
    "area=length*width"
   ]
  },
  {
   "cell_type": "code",
   "execution_count": 3,
   "id": "0147ec1c",
   "metadata": {},
   "outputs": [
    {
     "name": "stdout",
     "output_type": "stream",
     "text": [
      "Area of the room=  207.06 meters\n"
     ]
    }
   ],
   "source": [
    "print(\"Area of the room= \",area,\"meters\")"
   ]
  },
  {
   "cell_type": "code",
   "execution_count": null,
   "id": "ac8ef49a",
   "metadata": {},
   "outputs": [],
   "source": []
  }
 ],
 "metadata": {
  "kernelspec": {
   "display_name": "Python 3 (ipykernel)",
   "language": "python",
   "name": "python3"
  },
  "language_info": {
   "codemirror_mode": {
    "name": "ipython",
    "version": 3
   },
   "file_extension": ".py",
   "mimetype": "text/x-python",
   "name": "python",
   "nbconvert_exporter": "python",
   "pygments_lexer": "ipython3",
   "version": "3.11.3"
  }
 },
 "nbformat": 4,
 "nbformat_minor": 5
}
