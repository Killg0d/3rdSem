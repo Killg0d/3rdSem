{
 "cells": [
  {
   "cell_type": "code",
   "execution_count": 1,
   "id": "d574c981",
   "metadata": {},
   "outputs": [
    {
     "data": {
      "text/plain": [
       "'The marks obtained by 10 students in a class test were as follows: \\n38, 41, 36, 31, 45, 38, 27, 32, 29, 39 \\nFind: \\n      (a) The mean of their marks \\n      (b) The mean of their marks when the marks of each student are increased by 2 \\n      (c) The mean of their marks when one mark is deducted from marks of each student \\n      (d) The mean of their marks when the marks of each student halved '"
      ]
     },
     "execution_count": 1,
     "metadata": {},
     "output_type": "execute_result"
    }
   ],
   "source": [
    "\"\"\"The marks obtained by 10 students in a class test were as follows: \n",
    "38, 41, 36, 31, 45, 38, 27, 32, 29, 39 \n",
    "Find: \n",
    "      (a) The mean of their marks \n",
    "      (b) The mean of their marks when the marks of each student are increased by 2 \n",
    "      (c) The mean of their marks when one mark is deducted from marks of each student \n",
    "      (d) The mean of their marks when the marks of each student halved \"\"\""
   ]
  },
  {
   "cell_type": "code",
   "execution_count": 2,
   "id": "3b279cf5",
   "metadata": {},
   "outputs": [],
   "source": [
    "import numpy as np"
   ]
  },
  {
   "cell_type": "code",
   "execution_count": 3,
   "id": "ff997a13",
   "metadata": {},
   "outputs": [],
   "source": [
    "list = [38, 41, 36, 31, 45, 38, 27, 32, 29, 39]"
   ]
  },
  {
   "cell_type": "code",
   "execution_count": 4,
   "id": "1cbf30ff",
   "metadata": {},
   "outputs": [
    {
     "data": {
      "text/plain": [
       "35.6"
      ]
     },
     "execution_count": 4,
     "metadata": {},
     "output_type": "execute_result"
    }
   ],
   "source": [
    "np.mean(list)"
   ]
  },
  {
   "cell_type": "code",
   "execution_count": 5,
   "id": "748fd078",
   "metadata": {},
   "outputs": [],
   "source": [
    "list2=[]\n",
    "for i in list:\n",
    "    list2.append(i+2)"
   ]
  },
  {
   "cell_type": "code",
   "execution_count": 6,
   "id": "dbd8020c",
   "metadata": {},
   "outputs": [
    {
     "name": "stdout",
     "output_type": "stream",
     "text": [
      "[40, 43, 38, 33, 47, 40, 29, 34, 31, 41]\n"
     ]
    }
   ],
   "source": [
    "print(list2)"
   ]
  },
  {
   "cell_type": "code",
   "execution_count": 7,
   "id": "0e88c5bc",
   "metadata": {},
   "outputs": [
    {
     "data": {
      "text/plain": [
       "37.6"
      ]
     },
     "execution_count": 7,
     "metadata": {},
     "output_type": "execute_result"
    }
   ],
   "source": [
    "np.mean(list2)"
   ]
  },
  {
   "cell_type": "code",
   "execution_count": 8,
   "id": "068ef9ab",
   "metadata": {},
   "outputs": [],
   "source": [
    "list3 = [x-1 for x in list] "
   ]
  },
  {
   "cell_type": "code",
   "execution_count": 9,
   "id": "13f3f1ee",
   "metadata": {},
   "outputs": [
    {
     "name": "stdout",
     "output_type": "stream",
     "text": [
      "[37, 40, 35, 30, 44, 37, 26, 31, 28, 38]\n"
     ]
    },
    {
     "data": {
      "text/plain": [
       "34.6"
      ]
     },
     "execution_count": 9,
     "metadata": {},
     "output_type": "execute_result"
    }
   ],
   "source": [
    "print(list3)\n",
    "np.mean(list3)"
   ]
  },
  {
   "cell_type": "code",
   "execution_count": 10,
   "id": "9997ba21",
   "metadata": {},
   "outputs": [],
   "source": [
    "list4 = [x/2 for x in list]"
   ]
  },
  {
   "cell_type": "code",
   "execution_count": 11,
   "id": "288de903",
   "metadata": {},
   "outputs": [
    {
     "name": "stdout",
     "output_type": "stream",
     "text": [
      "[19.0, 20.5, 18.0, 15.5, 22.5, 19.0, 13.5, 16.0, 14.5, 19.5]\n"
     ]
    },
    {
     "data": {
      "text/plain": [
       "17.8"
      ]
     },
     "execution_count": 11,
     "metadata": {},
     "output_type": "execute_result"
    }
   ],
   "source": [
    "print(list4)\n",
    "np.mean(list4)"
   ]
  },
  {
   "cell_type": "code",
   "execution_count": null,
   "id": "a998816f",
   "metadata": {},
   "outputs": [],
   "source": []
  }
 ],
 "metadata": {
  "kernelspec": {
   "display_name": "Python 3 (ipykernel)",
   "language": "python",
   "name": "python3"
  },
  "language_info": {
   "codemirror_mode": {
    "name": "ipython",
    "version": 3
   },
   "file_extension": ".py",
   "mimetype": "text/x-python",
   "name": "python",
   "nbconvert_exporter": "python",
   "pygments_lexer": "ipython3",
   "version": "3.11.3"
  }
 },
 "nbformat": 4,
 "nbformat_minor": 5
}
