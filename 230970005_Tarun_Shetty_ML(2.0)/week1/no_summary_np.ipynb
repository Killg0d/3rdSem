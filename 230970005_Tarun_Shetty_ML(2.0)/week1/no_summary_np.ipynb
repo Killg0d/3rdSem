{
 "cells": [
  {
   "cell_type": "code",
   "execution_count": 2,
   "id": "cf8d2767",
   "metadata": {},
   "outputs": [],
   "source": [
    "import numpy as np"
   ]
  },
  {
   "cell_type": "code",
   "execution_count": 3,
   "id": "0c7a26b8",
   "metadata": {},
   "outputs": [],
   "source": [
    "val=np.array((16,9,14,11,13,6,18,15,10,12),dtype=np.int16)"
   ]
  },
  {
   "cell_type": "code",
   "execution_count": 4,
   "id": "a3904ef8",
   "metadata": {},
   "outputs": [
    {
     "name": "stdout",
     "output_type": "stream",
     "text": [
      "class:  ndarray\n",
      "shape:  (10,)\n",
      "strides:  (2,)\n",
      "itemsize:  2\n",
      "aligned:  True\n",
      "contiguous:  True\n",
      "fortran:  True\n",
      "data pointer: 0x24838585770\n",
      "byteorder:  little\n",
      "byteswap:  False\n",
      "type: int16\n"
     ]
    }
   ],
   "source": [
    "np.info(val)"
   ]
  },
  {
   "cell_type": "code",
   "execution_count": 5,
   "id": "a2561735",
   "metadata": {},
   "outputs": [
    {
     "name": "stdout",
     "output_type": "stream",
     "text": [
      "18\n"
     ]
    }
   ],
   "source": [
    "mx=val.max(axis=0)\n",
    "print(mx)"
   ]
  },
  {
   "cell_type": "code",
   "execution_count": 6,
   "id": "779c8d09",
   "metadata": {},
   "outputs": [
    {
     "name": "stdout",
     "output_type": "stream",
     "text": [
      "6\n"
     ]
    }
   ],
   "source": [
    "mn=val.min()\n",
    "print(mn)"
   ]
  },
  {
   "cell_type": "code",
   "execution_count": 7,
   "id": "8adf20d3",
   "metadata": {},
   "outputs": [
    {
     "data": {
      "text/plain": [
       "array([ 6,  9, 10, 11, 12, 13, 14, 15, 16, 18], dtype=int16)"
      ]
     },
     "execution_count": 7,
     "metadata": {},
     "output_type": "execute_result"
    }
   ],
   "source": [
    "np.sort(val)"
   ]
  },
  {
   "cell_type": "code",
   "execution_count": 8,
   "id": "3810af51",
   "metadata": {},
   "outputs": [
    {
     "data": {
      "text/plain": [
       "12.4"
      ]
     },
     "execution_count": 8,
     "metadata": {},
     "output_type": "execute_result"
    }
   ],
   "source": [
    "np.mean(val)"
   ]
  },
  {
   "cell_type": "code",
   "execution_count": 9,
   "id": "43c82a74",
   "metadata": {},
   "outputs": [
    {
     "data": {
      "text/plain": [
       "12.5"
      ]
     },
     "execution_count": 9,
     "metadata": {},
     "output_type": "execute_result"
    }
   ],
   "source": [
    "np.median(val)"
   ]
  },
  {
   "cell_type": "code",
   "execution_count": 16,
   "id": "7c92828d",
   "metadata": {},
   "outputs": [],
   "source": [
    "Q3,Q1=np.percentile(val,[75,25])"
   ]
  },
  {
   "cell_type": "code",
   "execution_count": 17,
   "id": "c65a796c",
   "metadata": {},
   "outputs": [
    {
     "name": "stdout",
     "output_type": "stream",
     "text": [
      "Q3,Q1 10.25 14.75\n"
     ]
    }
   ],
   "source": [
    "print(\"Q3,Q1\",q1,q3)"
   ]
  },
  {
   "cell_type": "code",
   "execution_count": 18,
   "id": "fef311b1",
   "metadata": {},
   "outputs": [
    {
     "name": "stdout",
     "output_type": "stream",
     "text": [
      "IQR 4.5\n"
     ]
    }
   ],
   "source": [
    "IQR=q3-q1\n",
    "print(\"IQR\",IQR)"
   ]
  },
  {
   "cell_type": "code",
   "execution_count": 19,
   "id": "917160d6",
   "metadata": {},
   "outputs": [
    {
     "name": "stdout",
     "output_type": "stream",
     "text": [
      "18\n"
     ]
    }
   ],
   "source": [
    "for i in val:\n",
    "    if i < Q1-1.5*IQR or i > Q1+1.5*IQR:\n",
    "        print(i)"
   ]
  },
  {
   "cell_type": "code",
   "execution_count": null,
   "id": "4012d2fd",
   "metadata": {},
   "outputs": [],
   "source": []
  }
 ],
 "metadata": {
  "kernelspec": {
   "display_name": "Python 3 (ipykernel)",
   "language": "python",
   "name": "python3"
  },
  "language_info": {
   "codemirror_mode": {
    "name": "ipython",
    "version": 3
   },
   "file_extension": ".py",
   "mimetype": "text/x-python",
   "name": "python",
   "nbconvert_exporter": "python",
   "pygments_lexer": "ipython3",
   "version": "3.11.3"
  }
 },
 "nbformat": 4,
 "nbformat_minor": 5
}
