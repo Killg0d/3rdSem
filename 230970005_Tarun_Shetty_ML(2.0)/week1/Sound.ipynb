{
 "cells": [
  {
   "cell_type": "code",
   "execution_count": 2,
   "id": "a35dce21",
   "metadata": {},
   "outputs": [],
   "source": [
    "def find_noise_level(decibel):\n",
    "    noises = {\n",
    "        40: \"Quiet room\",\n",
    "        70: \"Normal conversation\",\n",
    "        85: \"City traffic\",\n",
    "        120: \"Jackhammer\",\n",
    "        140: \"Jet engine\"\n",
    "    }\n",
    " \n",
    "    # Check for exact match\n",
    "    if decibel in noises:\n",
    "        return noises[decibel]\n",
    " \n",
    "    # Get the sorted list of decibel levels\n",
    "    sorted_decibels = sorted(noises.keys())\n",
    " \n",
    "    # Find the range\n",
    "    if decibel < sorted_decibels[0]:\n",
    "        return f\"Quieter than {noises[sorted_decibels[0]]}\"\n",
    "    elif decibel > sorted_decibels[-1]:\n",
    "        return f\"Louder than {noises[sorted_decibels[-1]]}\"\n",
    "    else:\n",
    "        lower = max([d for d in sorted_decibels if d < decibel])\n",
    "        upper = min([d for d in sorted_decibels if d > decibel])\n",
    "        return f\"Between {noises[lower]} and {noises[upper]}\"\n",
    " \n"
   ]
  },
  {
   "cell_type": "code",
   "execution_count": 3,
   "id": "64b1b8a0",
   "metadata": {},
   "outputs": [
    {
     "name": "stdout",
     "output_type": "stream",
     "text": [
      "Enter the sound level in decibels: 170\n",
      "Louder than Jet engine\n"
     ]
    }
   ],
   "source": [
    "# Read input from user\n",
    "decibel_level = float(input(\"Enter the sound level in decibels: \"))\n",
    "print(find_noise_level(decibel_level))"
   ]
  },
  {
   "cell_type": "code",
   "execution_count": null,
   "id": "27806ca0",
   "metadata": {},
   "outputs": [],
   "source": []
  }
 ],
 "metadata": {
  "kernelspec": {
   "display_name": "Python 3 (ipykernel)",
   "language": "python",
   "name": "python3"
  },
  "language_info": {
   "codemirror_mode": {
    "name": "ipython",
    "version": 3
   },
   "file_extension": ".py",
   "mimetype": "text/x-python",
   "name": "python",
   "nbconvert_exporter": "python",
   "pygments_lexer": "ipython3",
   "version": "3.9.13"
  }
 },
 "nbformat": 4,
 "nbformat_minor": 5
}
