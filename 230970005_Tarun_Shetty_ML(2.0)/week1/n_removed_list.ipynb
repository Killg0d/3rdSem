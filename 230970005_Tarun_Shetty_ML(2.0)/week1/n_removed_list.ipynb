{
 "cells": [
  {
   "cell_type": "code",
   "execution_count": 1,
   "id": "ec060c06",
   "metadata": {},
   "outputs": [
    {
     "data": {
      "text/plain": [
       "' When analysing data collected as part of a science experiment it may be desirable to remove \\nthe most extreme values before performing other calculations. Write a function that takes a list \\nof values and an non-negative integer, n, as its parameters. The function should create a new \\ncopy of the list with the n largest elements and the n smallest elements removed. Then it should \\nreturn the new copy of the list as the function’s only result. The order of the elements in the \\nreturned list does not have to match the order of the elements in the original list. '"
      ]
     },
     "execution_count": 1,
     "metadata": {},
     "output_type": "execute_result"
    }
   ],
   "source": [
    "\"\"\" When analysing data collected as part of a science experiment it may be desirable to remove \n",
    "the most extreme values before performing other calculations. Write a function that takes a list \n",
    "of values and an non-negative integer, n, as its parameters. The function should create a new \n",
    "copy of the list with the n largest elements and the n smallest elements removed. Then it should \n",
    "return the new copy of the list as the function’s only result. The order of the elements in the \n",
    "returned list does not have to match the order of the elements in the original list. \"\"\""
   ]
  },
  {
   "cell_type": "code",
   "execution_count": null,
   "id": "489f34b2",
   "metadata": {},
   "outputs": [],
   "source": [
    "\"\"\"Your function should read a list of numbers from the user and remove the two largest and two \n",
    "smallest values from it. Display the list with the outliers removed, followed by the original list. \n",
    "Your program should generate an appropriate error message if the user enters less than 4 values. \"\"\""
   ]
  },
  {
   "cell_type": "code",
   "execution_count": 17,
   "id": "e3b70962",
   "metadata": {},
   "outputs": [],
   "source": [
    "import numpy as np"
   ]
  },
  {
   "cell_type": "code",
   "execution_count": 18,
   "id": "b0d667e4",
   "metadata": {},
   "outputs": [],
   "source": [
    "def remove_n(list,n):\n",
    "    list=np.sort(list)\n",
    "    list_removed = list[n:len(list)-n]\n",
    "    return list_removed\n",
    "    "
   ]
  },
  {
   "cell_type": "code",
   "execution_count": 19,
   "id": "d9fd1664",
   "metadata": {},
   "outputs": [
    {
     "name": "stdout",
     "output_type": "stream",
     "text": [
      "[3 4 4 5 5]\n"
     ]
    }
   ],
   "source": [
    "print(remove_n([4,5,3,7,1,2,6,4,5],2))"
   ]
  },
  {
   "cell_type": "code",
   "execution_count": 20,
   "id": "f1843f69",
   "metadata": {},
   "outputs": [
    {
     "name": "stdout",
     "output_type": "stream",
     "text": [
      "Enter size of list:5\n"
     ]
    }
   ],
   "source": [
    "list=[]\n",
    "while True:\n",
    "    n=int(input(\"Enter size of list:\"))\n",
    "    if n > 4:\n",
    "        break\n",
    "    print(\"Number should be greater than 4\")"
   ]
  },
  {
   "cell_type": "code",
   "execution_count": 21,
   "id": "2260720c",
   "metadata": {},
   "outputs": [
    {
     "name": "stdout",
     "output_type": "stream",
     "text": [
      "Enter numbers:2\n",
      "Enter numbers:5\n",
      "Enter numbers:3\n",
      "Enter numbers:6\n",
      "Enter numbers:1\n"
     ]
    }
   ],
   "source": [
    "for x in range(0,5):\n",
    "    list.append(int(input(\"Enter numbers:\")))"
   ]
  },
  {
   "cell_type": "code",
   "execution_count": 22,
   "id": "d3a53935",
   "metadata": {},
   "outputs": [
    {
     "name": "stdout",
     "output_type": "stream",
     "text": [
      "[3]\n"
     ]
    }
   ],
   "source": [
    "print(remove_n(list,2))"
   ]
  },
  {
   "cell_type": "code",
   "execution_count": 23,
   "id": "deee257d",
   "metadata": {},
   "outputs": [
    {
     "name": "stdout",
     "output_type": "stream",
     "text": [
      "[2, 5, 3, 6, 1]\n"
     ]
    }
   ],
   "source": [
    "print(list)"
   ]
  },
  {
   "cell_type": "code",
   "execution_count": null,
   "id": "2e12cb41",
   "metadata": {},
   "outputs": [],
   "source": []
  }
 ],
 "metadata": {
  "kernelspec": {
   "display_name": "Python 3 (ipykernel)",
   "language": "python",
   "name": "python3"
  },
  "language_info": {
   "codemirror_mode": {
    "name": "ipython",
    "version": 3
   },
   "file_extension": ".py",
   "mimetype": "text/x-python",
   "name": "python",
   "nbconvert_exporter": "python",
   "pygments_lexer": "ipython3",
   "version": "3.11.3"
  }
 },
 "nbformat": 4,
 "nbformat_minor": 5
}
