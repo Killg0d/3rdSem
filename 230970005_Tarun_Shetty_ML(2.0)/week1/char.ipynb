{
 "cells": [
  {
   "cell_type": "code",
   "execution_count": 16,
   "id": "1404329b",
   "metadata": {},
   "outputs": [
    {
     "data": {
      "text/plain": [
       "' Create a program that reads a letter of the alphabet from the user. If the user enters a, e, i, o \\nor u then your program should display a message indicating that the entered letter is a vowel. \\nIf the user enters y then your program should display a message indicating that sometimes y is \\na vowel, and sometimes y is a consonant. Otherwise your program should display a message \\nindicating that the letter is a consonant. '"
      ]
     },
     "execution_count": 16,
     "metadata": {},
     "output_type": "execute_result"
    }
   ],
   "source": [
    "''' Create a program that reads a letter of the alphabet from the user. If the user enters a, e, i, o \n",
    "or u then your program should display a message indicating that the entered letter is a vowel. \n",
    "If the user enters y then your program should display a message indicating that sometimes y is \n",
    "a vowel, and sometimes y is a consonant. Otherwise your program should display a message \n",
    "indicating that the letter is a consonant. '''"
   ]
  },
  {
   "cell_type": "code",
   "execution_count": 17,
   "id": "3703ad08",
   "metadata": {},
   "outputs": [],
   "source": [
    "import re"
   ]
  },
  {
   "cell_type": "code",
   "execution_count": 18,
   "id": "3e47ad28",
   "metadata": {},
   "outputs": [],
   "source": [
    "\n",
    "def determine(ch):\n",
    "    if len(ch) == 1 and re.match(\"[A-Za-z]\",ch):\n",
    "        print(\"Correct\")\n",
    "        if re.match(\"[AEIOUaeiou]\",ch):\n",
    "            print(\"Entered character is a vowel\")\n",
    "        elif ch == 'y' or ch == 'Y':\n",
    "            print(\"y is a vowel and sometimes behaves like a consonant\")\n",
    "        else:\n",
    "            print(ch,\" is a consonant\")\n",
    "    else:\n",
    "        print(\"Incorrect enter an alphabet\")"
   ]
  },
  {
   "cell_type": "code",
   "execution_count": 19,
   "id": "90fae839",
   "metadata": {},
   "outputs": [
    {
     "name": "stdin",
     "output_type": "stream",
     "text": [
      "Enter a character: A\n"
     ]
    },
    {
     "name": "stdout",
     "output_type": "stream",
     "text": [
      "Correct\n",
      "Entered character is a vowel\n"
     ]
    }
   ],
   "source": [
    "determine(input(\"Enter a character:\"))"
   ]
  },
  {
   "cell_type": "code",
   "execution_count": 20,
   "id": "83a1949f-178d-400f-96d6-306646b9c859",
   "metadata": {},
   "outputs": [
    {
     "name": "stdin",
     "output_type": "stream",
     "text": [
      "Enter a character: y\n"
     ]
    },
    {
     "name": "stdout",
     "output_type": "stream",
     "text": [
      "Correct\n",
      "y is a vowel and sometimes behaves like a consonant\n"
     ]
    }
   ],
   "source": [
    "determine(input(\"Enter a character:\"))"
   ]
  },
  {
   "cell_type": "code",
   "execution_count": 21,
   "id": "3805598c-4c34-4dd1-bdf9-7ab786126908",
   "metadata": {},
   "outputs": [
    {
     "name": "stdin",
     "output_type": "stream",
     "text": [
      "Enter a character: B\n"
     ]
    },
    {
     "name": "stdout",
     "output_type": "stream",
     "text": [
      "Correct\n",
      "B  is a consonant\n"
     ]
    }
   ],
   "source": [
    "determine(input(\"Enter a character:\"))"
   ]
  },
  {
   "cell_type": "code",
   "execution_count": 22,
   "id": "e6eed9ab-2e9d-4a3a-aafc-aa314e6fe0bf",
   "metadata": {},
   "outputs": [
    {
     "name": "stdin",
     "output_type": "stream",
     "text": [
      "Enter a character: 1\n"
     ]
    },
    {
     "name": "stdout",
     "output_type": "stream",
     "text": [
      "Incorrect enter an alphabet\n"
     ]
    }
   ],
   "source": [
    "determine(input(\"Enter a character:\"))"
   ]
  },
  {
   "cell_type": "code",
   "execution_count": null,
   "id": "01b1d74d-5af3-462a-84e4-711321e35b4f",
   "metadata": {},
   "outputs": [],
   "source": []
  }
 ],
 "metadata": {
  "kernelspec": {
   "display_name": "Python 3 (ipykernel)",
   "language": "python",
   "name": "python3"
  },
  "language_info": {
   "codemirror_mode": {
    "name": "ipython",
    "version": 3
   },
   "file_extension": ".py",
   "mimetype": "text/x-python",
   "name": "python",
   "nbconvert_exporter": "python",
   "pygments_lexer": "ipython3",
   "version": "3.11.3"
  }
 },
 "nbformat": 4,
 "nbformat_minor": 5
}
