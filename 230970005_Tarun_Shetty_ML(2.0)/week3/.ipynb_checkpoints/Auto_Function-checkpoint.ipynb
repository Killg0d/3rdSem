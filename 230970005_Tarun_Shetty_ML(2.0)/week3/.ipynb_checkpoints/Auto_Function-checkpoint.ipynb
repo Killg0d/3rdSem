{
 "cells": [
  {
   "cell_type": "code",
   "execution_count": 23,
   "id": "ac6506e9-b22d-48dc-a441-c77857cf6669",
   "metadata": {},
   "outputs": [],
   "source": [
    "import pandas as pd\n",
    "import numpy as np\n",
    "import matplotlib.pyplot as plt\n",
    "from tabulate import tabulate"
   ]
  },
  {
   "cell_type": "code",
   "execution_count": 26,
   "id": "81b9b708-5133-4000-b5d3-a73a6c80e874",
   "metadata": {},
   "outputs": [
    {
     "name": "stdout",
     "output_type": "stream",
     "text": [
      "<class 'pandas.core.frame.DataFrame'>\n",
      "RangeIndex: 32 entries, 0 to 31\n",
      "Data columns (total 12 columns):\n",
      " #   Column  Non-Null Count  Dtype  \n",
      "---  ------  --------------  -----  \n",
      " 0   model   32 non-null     object \n",
      " 1   mpg     32 non-null     float64\n",
      " 2   cyl     32 non-null     int64  \n",
      " 3   disp    32 non-null     float64\n",
      " 4   hp      32 non-null     int64  \n",
      " 5   drat    32 non-null     float64\n",
      " 6   wt      32 non-null     float64\n",
      " 7   qsec    32 non-null     float64\n",
      " 8   vs      32 non-null     int64  \n",
      " 9   am      32 non-null     int64  \n",
      " 10  gear    32 non-null     int64  \n",
      " 11  carb    32 non-null     int64  \n",
      "dtypes: float64(5), int64(6), object(1)\n",
      "memory usage: 3.1+ KB\n",
      "+-------------+--------------------+\n",
      "| Train Ratio | Mean Squared Error |\n",
      "+-------------+--------------------+\n",
      "|     0.1     | 40.69020063894336  |\n",
      "|     0.2     | 24.62003229583763  |\n",
      "|     0.3     | 155.52740462087553 |\n",
      "|     0.4     | 202.47968871324093 |\n",
      "|     0.5     | 30.287652344932972 |\n",
      "|     0.6     | 11.691624679041187 |\n",
      "|     0.7     | 6.660825651723906  |\n",
      "|     0.8     | 10.130154667787284 |\n",
      "|     0.9     | 9.935744099588113  |\n",
      "+-------------+--------------------+\n"
     ]
    }
   ],
   "source": [
    "\n",
    "from sklearn.model_selection import train_test_split\n",
    "from sklearn.linear_model import LinearRegression\n",
    "from sklearn.metrics import mean_squared_error\n",
    "\n",
    "# Load the dataset\n",
    "df = pd.read_csv(\"../datasets/mtcars.csv\")\n",
    "df.info()\n",
    "# Assuming 'mpg' is the target variable and the rest are features\n",
    "X = df.drop(columns=['mpg','model'])\n",
    "y = df['mpg']\n",
    "\n",
    "# Initialize an empty list to store results\n",
    "results = []\n",
    "\n",
    "# Loop over different train-test splits\n",
    "for split_ratio in [i/10 for i in range(1, 10)]:\n",
    "    # Split the data\n",
    "    X_train, X_test, y_train, y_test = train_test_split(X, y, test_size=1-split_ratio, random_state=42)\n",
    "    \n",
    "    # Initialize and fit the model\n",
    "    model = LinearRegression()\n",
    "    model.fit(X_train, y_train)\n",
    "    \n",
    "    # Predict on the test set\n",
    "    y_pred = model.predict(X_test)\n",
    "    \n",
    "    # Calculate mean squared error\n",
    "    mse = mean_squared_error(y_test, y_pred)\n",
    "    \n",
    "    # Store the split ratio and corresponding MSE in the results list\n",
    "    results.append([split_ratio, mse])\n",
    "\n",
    "# Use tabulate to display the results\n",
    "print(tabulate(results, headers=[\"Train Ratio\", \"Mean Squared Error\"], tablefmt=\"pretty\"))\n"
   ]
  },
  {
   "cell_type": "code",
   "execution_count": null,
   "id": "8b33622e-4c77-46d1-94ee-59533b2e46e3",
   "metadata": {},
   "outputs": [],
   "source": []
  }
 ],
 "metadata": {
  "kernelspec": {
   "display_name": "Python 3 (ipykernel)",
   "language": "python",
   "name": "python3"
  },
  "language_info": {
   "codemirror_mode": {
    "name": "ipython",
    "version": 3
   },
   "file_extension": ".py",
   "mimetype": "text/x-python",
   "name": "python",
   "nbconvert_exporter": "python",
   "pygments_lexer": "ipython3",
   "version": "3.11.3"
  }
 },
 "nbformat": 4,
 "nbformat_minor": 5
}
