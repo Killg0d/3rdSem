{
 "cells": [
  {
   "cell_type": "code",
   "execution_count": 12,
   "id": "e1bb6f2f",
   "metadata": {},
   "outputs": [],
   "source": [
    "import csv\n",
    "fields=['Name','regno','Course','Grade']\n",
    "rows=[]\n",
    "for i in range(0,5):\n",
    "    rows.append([chr(ord('A') + i),i,'C'+str(i),'A'+str(i)])"
   ]
  },
  {
   "cell_type": "code",
   "execution_count": 14,
   "id": "a59e2331",
   "metadata": {},
   "outputs": [
    {
     "data": {
      "text/plain": [
       "[['A', 0, 'C0', 'A0'],\n",
       " ['B', 1, 'C1', 'A1'],\n",
       " ['C', 2, 'C2', 'A2'],\n",
       " ['D', 3, 'C3', 'A3'],\n",
       " ['E', 4, 'C4', 'A4']]"
      ]
     },
     "execution_count": 14,
     "metadata": {},
     "output_type": "execute_result"
    }
   ],
   "source": [
    "rows"
   ]
  },
  {
   "cell_type": "code",
   "execution_count": 15,
   "id": "9af1a6cc",
   "metadata": {},
   "outputs": [],
   "source": [
    "file=\"first.csv\"\n",
    "with open(file,'w') as csvfile:\n",
    "    csvwriter=csv.writer(csvfile)\n",
    "    csvwriter.writerow(fields)\n",
    "    csvwriter.writerows(rows)\n",
    "csvfile.close()"
   ]
  },
  {
   "cell_type": "code",
   "execution_count": 23,
   "id": "0f88d971",
   "metadata": {},
   "outputs": [
    {
     "name": "stdout",
     "output_type": "stream",
     "text": [
      "0.1\n",
      "0.2\n",
      "0.3\n",
      "0.4\n",
      "0.5\n",
      "0.6\n",
      "0.7\n",
      "0.8\n",
      "0.9\n"
     ]
    }
   ],
   "source": [
    "import numpy as np\n",
    "for i in np.arange(0.1,1.0,0.1):\n",
    "    i=(round(i,1))"
   ]
  },
  {
   "cell_type": "code",
   "execution_count": null,
   "id": "1699e822",
   "metadata": {},
   "outputs": [],
   "source": []
  }
 ],
 "metadata": {
  "kernelspec": {
   "display_name": "Python 3 (ipykernel)",
   "language": "python",
   "name": "python3"
  },
  "language_info": {
   "codemirror_mode": {
    "name": "ipython",
    "version": 3
   },
   "file_extension": ".py",
   "mimetype": "text/x-python",
   "name": "python",
   "nbconvert_exporter": "python",
   "pygments_lexer": "ipython3",
   "version": "3.11.3"
  }
 },
 "nbformat": 4,
 "nbformat_minor": 5
}
