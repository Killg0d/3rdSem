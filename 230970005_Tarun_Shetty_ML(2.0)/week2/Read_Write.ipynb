{
 "cells": [
  {
   "cell_type": "code",
   "execution_count": 2,
   "id": "9921d395",
   "metadata": {},
   "outputs": [],
   "source": [
    "import csv"
   ]
  },
  {
   "cell_type": "code",
   "execution_count": 10,
   "id": "2bb4fa77",
   "metadata": {},
   "outputs": [],
   "source": [
    "list1 = ['A','B','C','D']\n",
    "list2 = [1,2,3,4,5]\n",
    "dict={'Class':list1,'Rollno':list2}"
   ]
  },
  {
   "cell_type": "code",
   "execution_count": 12,
   "id": "4c63aec6",
   "metadata": {},
   "outputs": [],
   "source": [
    "with open(\"second.csv\",'w') as csvfile:\n",
    "    csvwriter=csv.writer(csvfile)\n",
    "    csvwriter.writerow(dict.keys())\n",
    "    csvwriter.writerows(dict.values())\n",
    "csvfile.close()"
   ]
  },
  {
   "cell_type": "code",
   "execution_count": null,
   "id": "bc90cf62",
   "metadata": {},
   "outputs": [],
   "source": []
  }
 ],
 "metadata": {
  "kernelspec": {
   "display_name": "Python 3 (ipykernel)",
   "language": "python",
   "name": "python3"
  },
  "language_info": {
   "codemirror_mode": {
    "name": "ipython",
    "version": 3
   },
   "file_extension": ".py",
   "mimetype": "text/x-python",
   "name": "python",
   "nbconvert_exporter": "python",
   "pygments_lexer": "ipython3",
   "version": "3.11.3"
  }
 },
 "nbformat": 4,
 "nbformat_minor": 5
}
