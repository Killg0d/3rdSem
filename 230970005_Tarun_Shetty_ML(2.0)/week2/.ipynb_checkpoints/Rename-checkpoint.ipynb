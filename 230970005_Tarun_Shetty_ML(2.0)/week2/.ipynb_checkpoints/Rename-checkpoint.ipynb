{
 "cells": [
  {
   "cell_type": "code",
   "execution_count": 1,
   "id": "25849408-95d5-40bb-b8aa-3c5b9a2a3f24",
   "metadata": {},
   "outputs": [],
   "source": [
    "import random\n",
    "import numpy as np"
   ]
  },
  {
   "cell_type": "code",
   "execution_count": 2,
   "id": "b49d93cb-8bd7-425a-aed6-4e570e6fc317",
   "metadata": {},
   "outputs": [
    {
     "name": "stdout",
     "output_type": "stream",
     "text": [
      "Random float between 0 and 1: 0.3228407611068056\n"
     ]
    }
   ],
   "source": [
    "rand_float = random.random()\n",
    "print(\"Random float between 0 and 1:\", rand_float)\n"
   ]
  },
  {
   "cell_type": "code",
   "execution_count": 3,
   "id": "1b6c5cf7-528c-4c33-8d38-cf7edff9de62",
   "metadata": {},
   "outputs": [
    {
     "name": "stdout",
     "output_type": "stream",
     "text": [
      "Random float between 10 and 20: 11.973946569554165\n"
     ]
    }
   ],
   "source": [
    "rand_uniform = random.uniform(10, 20)\n",
    "print(\"Random float between 10 and 20:\", rand_uniform)\n"
   ]
  },
  {
   "cell_type": "code",
   "execution_count": 4,
   "id": "33f5bba9-ac8d-4e18-9917-a723d753a973",
   "metadata": {},
   "outputs": [
    {
     "name": "stdout",
     "output_type": "stream",
     "text": [
      "Shuffled list: ['apple', 'cherry', 'banana']\n"
     ]
    }
   ],
   "source": [
    "items = ['apple', 'banana', 'cherry']\n",
    "random.shuffle(items)\n",
    "print(\"Shuffled list:\", items)\n"
   ]
  },
  {
   "cell_type": "code",
   "execution_count": 5,
   "id": "b4be5c00-0d9f-4b12-a2dd-09c51dd5f115",
   "metadata": {},
   "outputs": [
    {
     "name": "stdout",
     "output_type": "stream",
     "text": [
      "Random sample without replacement: [74, 55, 59, 70, 21]\n"
     ]
    }
   ],
   "source": [
    "rand_sample = random.sample(range(1, 100), 5)\n",
    "print(\"Random sample without replacement:\", rand_sample)\n"
   ]
  },
  {
   "cell_type": "code",
   "execution_count": 6,
   "id": "f5a0183d-bfba-4b73-8d94-02bf52397a5f",
   "metadata": {},
   "outputs": [
    {
     "name": "stdout",
     "output_type": "stream",
     "text": [
      "Random choices with replacement: ['banana', 'banana', 'cherry', 'banana', 'banana']\n"
     ]
    }
   ],
   "source": [
    "rand_choices = random.choices(['apple', 'banana', 'cherry'], weights=[1, 2, 3], k=5)\n",
    "print(\"Random choices with replacement:\", rand_choices)\n"
   ]
  }
 ],
 "metadata": {
  "kernelspec": {
   "display_name": "Python 3 (ipykernel)",
   "language": "python",
   "name": "python3"
  },
  "language_info": {
   "codemirror_mode": {
    "name": "ipython",
    "version": 3
   },
   "file_extension": ".py",
   "mimetype": "text/x-python",
   "name": "python",
   "nbconvert_exporter": "python",
   "pygments_lexer": "ipython3",
   "version": "3.11.3"
  }
 },
 "nbformat": 4,
 "nbformat_minor": 5
}
