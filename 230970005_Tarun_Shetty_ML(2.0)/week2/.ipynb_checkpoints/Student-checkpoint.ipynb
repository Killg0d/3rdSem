{
 "cells": [
  {
   "cell_type": "code",
   "execution_count": 102,
   "id": "7af17a95-aeaa-4cef-a188-fb753503612d",
   "metadata": {},
   "outputs": [],
   "source": [
    "import statistics as st\n",
    "import numpy as np\n",
    "import matplotlib.pyplot as plt\n",
    "from random import randint\n",
    "from tabulate import tabulate\n",
    "import pandas as pd"
   ]
  },
  {
   "cell_type": "code",
   "execution_count": 103,
   "id": "40325737-5c2a-4af6-8533-3e74ba68e80b",
   "metadata": {},
   "outputs": [],
   "source": [
    "header=['SNO','REGNO','NAME','M1','M2','M3','M4','M5']"
   ]
  },
  {
   "cell_type": "code",
   "execution_count": 104,
   "id": "1316fa5a-7827-45f5-97b0-189a062f6bfd",
   "metadata": {},
   "outputs": [],
   "source": [
    "k=1\n",
    "rows=[]\n",
    "for i in range(1,11):\n",
    "    row=[i,100+1,chr(ord('A')+i-1),randint(0,100),randint(0,100),randint(0,100),randint(0,100),randint(0,100)]\n",
    "    rows.append(row)\n",
    "\n"
   ]
  },
  {
   "cell_type": "code",
   "execution_count": 105,
   "id": "db5aac6f-8342-4ebe-b8c9-b70ea7ce2c6d",
   "metadata": {},
   "outputs": [
    {
     "name": "stdout",
     "output_type": "stream",
     "text": [
      "--  ---  -  --  --  --  --  --\n",
      " 1  101  A  52  52  93  42  81\n",
      " 2  101  B  54  34  52  46  97\n",
      " 3  101  C  16  12  63  72  44\n",
      " 4  101  D  98  31  88  64  61\n",
      " 5  101  E   6  75  93  71  70\n",
      " 6  101  F  28  90  87  13  25\n",
      " 7  101  G  40  79  70  31  79\n",
      " 8  101  H  95  34  31  45  43\n",
      " 9  101  I  75  74  19  54  46\n",
      "10  101  J   4  78  13  97  88\n",
      "--  ---  -  --  --  --  --  --\n"
     ]
    }
   ],
   "source": [
    "print(tabulate(rows))"
   ]
  },
  {
   "cell_type": "code",
   "execution_count": 110,
   "id": "f8605552-d1e5-48d2-b9fd-8950f5c1a3d0",
   "metadata": {},
   "outputs": [
    {
     "data": {
      "text/plain": [
       "M1    46.8\n",
       "M2    55.9\n",
       "M3    60.9\n",
       "M4    53.5\n",
       "M5    63.4\n",
       "dtype: float64"
      ]
     },
     "execution_count": 110,
     "metadata": {},
     "output_type": "execute_result"
    }
   ],
   "source": [
    "df=pd.DataFrame(rows,columns=header)\n",
    "df[['M1','M2','M3','M4','M5']].mean()"
   ]
  },
  {
   "cell_type": "code",
   "execution_count": 111,
   "id": "4fecc688-906b-4507-be40-9c8b90da5458",
   "metadata": {},
   "outputs": [
    {
     "data": {
      "text/plain": [
       "M1    46.0\n",
       "M2    63.0\n",
       "M3    66.5\n",
       "M4    50.0\n",
       "M5    65.5\n",
       "dtype: float64"
      ]
     },
     "execution_count": 111,
     "metadata": {},
     "output_type": "execute_result"
    }
   ],
   "source": [
    "df[['M1','M2','M3','M4','M5']].median()"
   ]
  },
  {
   "cell_type": "code",
   "execution_count": 114,
   "id": "349474b8-63c1-42eb-b8f0-f4c6470ea807",
   "metadata": {},
   "outputs": [
    {
     "data": {
      "text/html": [
       "<div>\n",
       "<style scoped>\n",
       "    .dataframe tbody tr th:only-of-type {\n",
       "        vertical-align: middle;\n",
       "    }\n",
       "\n",
       "    .dataframe tbody tr th {\n",
       "        vertical-align: top;\n",
       "    }\n",
       "\n",
       "    .dataframe thead th {\n",
       "        text-align: right;\n",
       "    }\n",
       "</style>\n",
       "<table border=\"1\" class=\"dataframe\">\n",
       "  <thead>\n",
       "    <tr style=\"text-align: right;\">\n",
       "      <th></th>\n",
       "      <th>M1</th>\n",
       "      <th>M2</th>\n",
       "      <th>M3</th>\n",
       "      <th>M4</th>\n",
       "      <th>M5</th>\n",
       "    </tr>\n",
       "  </thead>\n",
       "  <tbody>\n",
       "    <tr>\n",
       "      <th>count</th>\n",
       "      <td>10.000000</td>\n",
       "      <td>10.000000</td>\n",
       "      <td>10.000000</td>\n",
       "      <td>10.000000</td>\n",
       "      <td>10.000000</td>\n",
       "    </tr>\n",
       "    <tr>\n",
       "      <th>mean</th>\n",
       "      <td>46.800000</td>\n",
       "      <td>55.900000</td>\n",
       "      <td>60.900000</td>\n",
       "      <td>53.500000</td>\n",
       "      <td>63.400000</td>\n",
       "    </tr>\n",
       "    <tr>\n",
       "      <th>std</th>\n",
       "      <td>34.421569</td>\n",
       "      <td>26.664375</td>\n",
       "      <td>30.888509</td>\n",
       "      <td>23.707711</td>\n",
       "      <td>23.348566</td>\n",
       "    </tr>\n",
       "    <tr>\n",
       "      <th>min</th>\n",
       "      <td>4.000000</td>\n",
       "      <td>12.000000</td>\n",
       "      <td>13.000000</td>\n",
       "      <td>13.000000</td>\n",
       "      <td>25.000000</td>\n",
       "    </tr>\n",
       "    <tr>\n",
       "      <th>25%</th>\n",
       "      <td>19.000000</td>\n",
       "      <td>34.000000</td>\n",
       "      <td>36.250000</td>\n",
       "      <td>42.750000</td>\n",
       "      <td>44.500000</td>\n",
       "    </tr>\n",
       "    <tr>\n",
       "      <th>50%</th>\n",
       "      <td>46.000000</td>\n",
       "      <td>63.000000</td>\n",
       "      <td>66.500000</td>\n",
       "      <td>50.000000</td>\n",
       "      <td>65.500000</td>\n",
       "    </tr>\n",
       "    <tr>\n",
       "      <th>75%</th>\n",
       "      <td>69.750000</td>\n",
       "      <td>77.250000</td>\n",
       "      <td>87.750000</td>\n",
       "      <td>69.250000</td>\n",
       "      <td>80.500000</td>\n",
       "    </tr>\n",
       "    <tr>\n",
       "      <th>max</th>\n",
       "      <td>98.000000</td>\n",
       "      <td>90.000000</td>\n",
       "      <td>93.000000</td>\n",
       "      <td>97.000000</td>\n",
       "      <td>97.000000</td>\n",
       "    </tr>\n",
       "  </tbody>\n",
       "</table>\n",
       "</div>"
      ],
      "text/plain": [
       "              M1         M2         M3         M4         M5\n",
       "count  10.000000  10.000000  10.000000  10.000000  10.000000\n",
       "mean   46.800000  55.900000  60.900000  53.500000  63.400000\n",
       "std    34.421569  26.664375  30.888509  23.707711  23.348566\n",
       "min     4.000000  12.000000  13.000000  13.000000  25.000000\n",
       "25%    19.000000  34.000000  36.250000  42.750000  44.500000\n",
       "50%    46.000000  63.000000  66.500000  50.000000  65.500000\n",
       "75%    69.750000  77.250000  87.750000  69.250000  80.500000\n",
       "max    98.000000  90.000000  93.000000  97.000000  97.000000"
      ]
     },
     "execution_count": 114,
     "metadata": {},
     "output_type": "execute_result"
    }
   ],
   "source": [
    "df[['M1','M2','M3','M4','M5']].describe()"
   ]
  },
  {
   "cell_type": "code",
   "execution_count": 117,
   "id": "abf2bdf2-2aaa-4dfa-a61b-5384fbcc6008",
   "metadata": {},
   "outputs": [
    {
     "data": {
      "text/plain": [
       "<Axes: >"
      ]
     },
     "execution_count": 117,
     "metadata": {},
     "output_type": "execute_result"
    },
    {
     "data": {
      "image/png": "[encoded data removed]",
      "text/plain": [
       "<Figure size 640x480 with 1 Axes>"
      ]
     },
     "metadata": {},
     "output_type": "display_data"
    }
   ],
   "source": [
    "import seaborn as sns\n",
    "sns.boxplot(data=df[['M1','M2','M3','M4','M5']])\n"
   ]
  },
  {
   "cell_type": "code",
   "execution_count": 127,
   "id": "842e6e90-97a0-4d29-b91e-4a461c95aab6",
   "metadata": {},
   "outputs": [
    {
     "data": {
      "text/plain": [
       "<Axes: >"
      ]
     },
     "execution_count": 127,
     "metadata": {},
     "output_type": "execute_result"
    },
    {
     "data": {
      "image/png": "[encoded data removed]",
      "text/plain": [
       "<Figure size 640x480 with 1 Axes>"
      ]
     },
     "metadata": {},
     "output_type": "display_data"
    }
   ],
   "source": [
    "sns.barplot(data=df[['M1','M2','M3','M4','M5']])"
   ]
  },
  {
   "cell_type": "code",
   "execution_count": null,
   "id": "d9bbdd03-55c6-49f3-a868-b726e511d3a2",
   "metadata": {},
   "outputs": [],
   "source": []
  }
 ],
 "metadata": {
  "kernelspec": {
   "display_name": "Python 3 (ipykernel)",
   "language": "python",
   "name": "python3"
  },
  "language_info": {
   "codemirror_mode": {
    "name": "ipython",
    "version": 3
   },
   "file_extension": ".py",
   "mimetype": "text/x-python",
   "name": "python",
   "nbconvert_exporter": "python",
   "pygments_lexer": "ipython3",
   "version": "3.11.3"
  }
 },
 "nbformat": 4,
 "nbformat_minor": 5
}
