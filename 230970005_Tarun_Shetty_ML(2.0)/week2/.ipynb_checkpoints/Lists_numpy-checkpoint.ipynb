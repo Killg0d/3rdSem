{
 "cells": [
  {
   "cell_type": "code",
   "execution_count": 13,
   "id": "a3457fd9-dd9a-465e-8dc1-edbedb161a2c",
   "metadata": {},
   "outputs": [],
   "source": [
    "import random\n",
    "import numpy as np"
   ]
  },
  {
   "cell_type": "code",
   "execution_count": 14,
   "id": "d1898155-8208-4a42-a8f9-3c356890db2b",
   "metadata": {},
   "outputs": [],
   "source": [
    "list1=[random.randint(10,20) for _ in range(10)]"
   ]
  },
  {
   "cell_type": "code",
   "execution_count": 15,
   "id": "a0e54c5d-e12d-437d-8595-7717c07cdca0",
   "metadata": {},
   "outputs": [
    {
     "data": {
      "text/plain": [
       "[14, 12, 16, 20, 17, 12, 13, 10, 18, 13]"
      ]
     },
     "execution_count": 15,
     "metadata": {},
     "output_type": "execute_result"
    }
   ],
   "source": [
    "list1"
   ]
  },
  {
   "cell_type": "code",
   "execution_count": 17,
   "id": "376bd802-2282-4cca-9e78-0b163319ed0a",
   "metadata": {},
   "outputs": [],
   "source": [
    "arr1=np.array(list1)"
   ]
  },
  {
   "cell_type": "code",
   "execution_count": 18,
   "id": "df9efade-5ec2-40ba-bab9-00bdbf1c6bef",
   "metadata": {},
   "outputs": [
    {
     "data": {
      "text/plain": [
       "array([14, 12, 16, 20, 17, 12, 13, 10, 18, 13])"
      ]
     },
     "execution_count": 18,
     "metadata": {},
     "output_type": "execute_result"
    }
   ],
   "source": [
    "arr1"
   ]
  },
  {
   "cell_type": "code",
   "execution_count": 20,
   "id": "3f35faf7-811d-43ac-992e-5282ea55f1f4",
   "metadata": {},
   "outputs": [],
   "source": [
    "list2=list(arr1)"
   ]
  },
  {
   "cell_type": "code",
   "execution_count": 21,
   "id": "3a5cd432-626d-4e8d-9109-58f27930e24c",
   "metadata": {},
   "outputs": [
    {
     "data": {
      "text/plain": [
       "[14, 12, 16, 20, 17, 12, 13, 10, 18, 13]"
      ]
     },
     "execution_count": 21,
     "metadata": {},
     "output_type": "execute_result"
    }
   ],
   "source": [
    "list2"
   ]
  },
  {
   "cell_type": "code",
   "execution_count": null,
   "id": "2bb899ec-994a-468e-a4ce-9c3181183086",
   "metadata": {},
   "outputs": [],
   "source": []
  }
 ],
 "metadata": {
  "kernelspec": {
   "display_name": "Python 3 (ipykernel)",
   "language": "python",
   "name": "python3"
  },
  "language_info": {
   "codemirror_mode": {
    "name": "ipython",
    "version": 3
   },
   "file_extension": ".py",
   "mimetype": "text/x-python",
   "name": "python",
   "nbconvert_exporter": "python",
   "pygments_lexer": "ipython3",
   "version": "3.11.3"
  }
 },
 "nbformat": 4,
 "nbformat_minor": 5
}
