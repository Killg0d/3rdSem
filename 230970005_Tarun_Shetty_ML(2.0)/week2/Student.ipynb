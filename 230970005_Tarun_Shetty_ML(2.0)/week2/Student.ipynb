{
 "cells": [
  {
   "cell_type": "code",
   "execution_count": 2,
   "id": "7af17a95-aeaa-4cef-a188-fb753503612d",
   "metadata": {},
   "outputs": [],
   "source": [
    "import statistics as st\n",
    "import numpy as np\n",
    "import matplotlib.pyplot as plt\n",
    "from random import randint\n",
    "from tabulate import tabulate\n",
    "import pandas as pd"
   ]
  },
  {
   "cell_type": "code",
   "execution_count": 3,
   "id": "40325737-5c2a-4af6-8533-3e74ba68e80b",
   "metadata": {},
   "outputs": [],
   "source": [
    "header=['SNO','REGNO','NAME','M1','M2','M3','M4','M5']"
   ]
  },
  {
   "cell_type": "code",
   "execution_count": 16,
   "id": "1316fa5a-7827-45f5-97b0-189a062f6bfd",
   "metadata": {},
   "outputs": [],
   "source": [
    "k=1\n",
    "rows=[]\n",
    "for i in range(1,11):\n",
    "    row=[i,100+i,chr(ord('A')+i-1),randint(0,100),randint(0,100),randint(0,100),randint(0,100),randint(0,100)]\n",
    "    rows.append(row)\n",
    "\n"
   ]
  },
  {
   "cell_type": "code",
   "execution_count": 18,
   "id": "40ca55e0-3a2a-469f-b652-71a2f0e4569d",
   "metadata": {},
   "outputs": [],
   "source": [
    "import csv\n",
    "file=\"Student.csv\"\n",
    "with open(file,'w') as csvfile:\n",
    "    csvwriter=csv.writer(csvfile)\n",
    "    csvwriter.writerow(header)\n",
    "    csvwriter.writerows(rows)\n",
    "csvfile.close()"
   ]
  },
  {
   "cell_type": "code",
   "execution_count": 19,
   "id": "db5aac6f-8342-4ebe-b8c9-b70ea7ce2c6d",
   "metadata": {},
   "outputs": [
    {
     "name": "stdout",
     "output_type": "stream",
     "text": [
      "--  ---  -  --  --  --  --  ---\n",
      " 1  101  A  45  45  15  30   97\n",
      " 2  102  B   6  65  12  98   35\n",
      " 3  103  C   1  37  99  27   30\n",
      " 4  104  D  22  17  98  97   52\n",
      " 5  105  E  33  70  61  79   15\n",
      " 6  106  F   4  42  36  98  100\n",
      " 7  107  G  38  10  21  74   66\n",
      " 8  108  H  94  21  69  37    3\n",
      " 9  109  I  61  51  92  99   61\n",
      "10  110  J  13  83  38  59   91\n",
      "--  ---  -  --  --  --  --  ---\n"
     ]
    }
   ],
   "source": [
    "print(tabulate(rows))"
   ]
  },
  {
   "cell_type": "code",
   "execution_count": 20,
   "id": "f8605552-d1e5-48d2-b9fd-8950f5c1a3d0",
   "metadata": {},
   "outputs": [
    {
     "data": {
      "text/plain": [
       "M1    31.7\n",
       "M2    44.1\n",
       "M3    54.1\n",
       "M4    69.8\n",
       "M5    55.0\n",
       "dtype: float64"
      ]
     },
     "execution_count": 20,
     "metadata": {},
     "output_type": "execute_result"
    }
   ],
   "source": [
    "df=pd.DataFrame(rows,columns=header)\n",
    "df[['M1','M2','M3','M4','M5']].mean()"
   ]
  },
  {
   "cell_type": "code",
   "execution_count": 21,
   "id": "4fecc688-906b-4507-be40-9c8b90da5458",
   "metadata": {},
   "outputs": [
    {
     "data": {
      "text/plain": [
       "M1    27.5\n",
       "M2    43.5\n",
       "M3    49.5\n",
       "M4    76.5\n",
       "M5    56.5\n",
       "dtype: float64"
      ]
     },
     "execution_count": 21,
     "metadata": {},
     "output_type": "execute_result"
    }
   ],
   "source": [
    "df[['M1','M2','M3','M4','M5']].median()"
   ]
  },
  {
   "cell_type": "code",
   "execution_count": 27,
   "id": "349474b8-63c1-42eb-b8f0-f4c6470ea807",
   "metadata": {},
   "outputs": [
    {
     "data": {
      "text/html": [
       "<div>\n",
       "<style scoped>\n",
       "    .dataframe tbody tr th:only-of-type {\n",
       "        vertical-align: middle;\n",
       "    }\n",
       "\n",
       "    .dataframe tbody tr th {\n",
       "        vertical-align: top;\n",
       "    }\n",
       "\n",
       "    .dataframe thead th {\n",
       "        text-align: right;\n",
       "    }\n",
       "</style>\n",
       "<table border=\"1\" class=\"dataframe\">\n",
       "  <thead>\n",
       "    <tr style=\"text-align: right;\">\n",
       "      <th></th>\n",
       "      <th>M1</th>\n",
       "      <th>M2</th>\n",
       "      <th>M3</th>\n",
       "      <th>M4</th>\n",
       "      <th>M5</th>\n",
       "    </tr>\n",
       "  </thead>\n",
       "  <tbody>\n",
       "    <tr>\n",
       "      <th>count</th>\n",
       "      <td>10.000000</td>\n",
       "      <td>10.000000</td>\n",
       "      <td>10.000000</td>\n",
       "      <td>10.000000</td>\n",
       "      <td>10.000000</td>\n",
       "    </tr>\n",
       "    <tr>\n",
       "      <th>mean</th>\n",
       "      <td>31.700000</td>\n",
       "      <td>44.100000</td>\n",
       "      <td>54.100000</td>\n",
       "      <td>69.800000</td>\n",
       "      <td>55.000000</td>\n",
       "    </tr>\n",
       "    <tr>\n",
       "      <th>std</th>\n",
       "      <td>29.386505</td>\n",
       "      <td>23.932544</td>\n",
       "      <td>34.371985</td>\n",
       "      <td>29.615311</td>\n",
       "      <td>34.286376</td>\n",
       "    </tr>\n",
       "    <tr>\n",
       "      <th>min</th>\n",
       "      <td>1.000000</td>\n",
       "      <td>10.000000</td>\n",
       "      <td>12.000000</td>\n",
       "      <td>27.000000</td>\n",
       "      <td>3.000000</td>\n",
       "    </tr>\n",
       "    <tr>\n",
       "      <th>25%</th>\n",
       "      <td>7.750000</td>\n",
       "      <td>25.000000</td>\n",
       "      <td>24.750000</td>\n",
       "      <td>42.500000</td>\n",
       "      <td>31.250000</td>\n",
       "    </tr>\n",
       "    <tr>\n",
       "      <th>50%</th>\n",
       "      <td>27.500000</td>\n",
       "      <td>43.500000</td>\n",
       "      <td>49.500000</td>\n",
       "      <td>76.500000</td>\n",
       "      <td>56.500000</td>\n",
       "    </tr>\n",
       "    <tr>\n",
       "      <th>75%</th>\n",
       "      <td>43.250000</td>\n",
       "      <td>61.500000</td>\n",
       "      <td>86.250000</td>\n",
       "      <td>97.750000</td>\n",
       "      <td>84.750000</td>\n",
       "    </tr>\n",
       "    <tr>\n",
       "      <th>max</th>\n",
       "      <td>94.000000</td>\n",
       "      <td>83.000000</td>\n",
       "      <td>99.000000</td>\n",
       "      <td>99.000000</td>\n",
       "      <td>100.000000</td>\n",
       "    </tr>\n",
       "  </tbody>\n",
       "</table>\n",
       "</div>"
      ],
      "text/plain": [
       "              M1         M2         M3         M4          M5\n",
       "count  10.000000  10.000000  10.000000  10.000000   10.000000\n",
       "mean   31.700000  44.100000  54.100000  69.800000   55.000000\n",
       "std    29.386505  23.932544  34.371985  29.615311   34.286376\n",
       "min     1.000000  10.000000  12.000000  27.000000    3.000000\n",
       "25%     7.750000  25.000000  24.750000  42.500000   31.250000\n",
       "50%    27.500000  43.500000  49.500000  76.500000   56.500000\n",
       "75%    43.250000  61.500000  86.250000  97.750000   84.750000\n",
       "max    94.000000  83.000000  99.000000  99.000000  100.000000"
      ]
     },
     "execution_count": 27,
     "metadata": {},
     "output_type": "execute_result"
    }
   ],
   "source": [
    "df[['M1','M2','M3','M4','M5']].describe()"
   ]
  },
  {
   "cell_type": "code",
   "execution_count": 28,
   "id": "abf2bdf2-2aaa-4dfa-a61b-5384fbcc6008",
   "metadata": {},
   "outputs": [
    {
     "data": {
      "text/plain": [
       "<Axes: >"
      ]
     },
     "execution_count": 28,
     "metadata": {},
     "output_type": "execute_result"
    },
    {
     "data": {
      "image/png": "[encoded data removed]",
      "text/plain": [
       "<Figure size 640x480 with 1 Axes>"
      ]
     },
     "metadata": {},
     "output_type": "display_data"
    }
   ],
   "source": [
    "import seaborn as sns\n",
    "sns.boxplot(data=df[['M1','M2','M3','M4','M5']])\n"
   ]
  },
  {
   "cell_type": "code",
   "execution_count": 29,
   "id": "842e6e90-97a0-4d29-b91e-4a461c95aab6",
   "metadata": {},
   "outputs": [
    {
     "data": {
      "text/plain": [
       "<Axes: >"
      ]
     },
     "execution_count": 29,
     "metadata": {},
     "output_type": "execute_result"
    },
    {
     "data": {
      "image/png": "[encoded data removed]",
      "text/plain": [
       "<Figure size 640x480 with 1 Axes>"
      ]
     },
     "metadata": {},
     "output_type": "display_data"
    }
   ],
   "source": [
    "sns.barplot(data=df[['M1','M2','M3','M4','M5']])"
   ]
  },
  {
   "cell_type": "code",
   "execution_count": 64,
   "id": "d9bbdd03-55c6-49f3-a868-b726e511d3a2",
   "metadata": {},
   "outputs": [
    {
     "name": "stdout",
     "output_type": "stream",
     "text": [
      "53.25\n",
      "7.75 27.5 43.25 35.5\n"
     ]
    }
   ],
   "source": [
    "from scipy.stats import iqr\n",
    "\n",
    "\n",
    "Q1,Q2,Q3 = df['M1'].quantile([0.25,0.5,0.75]) \n",
    "m1_iqr=Q3-Q1\n",
    "print(m1_iqr*1.5)\n",
    "print(Q1,Q2,Q3,m1_iqr)"
   ]
  },
  {
   "cell_type": "code",
   "execution_count": 35,
   "id": "b35b63a2-a9ae-4d9e-b8be-748ff2648a8b",
   "metadata": {},
   "outputs": [
    {
     "name": "stdout",
     "output_type": "stream",
     "text": [
      "low_limit is -45.5\n",
      "up_limit is 96.5\n"
     ]
    }
   ],
   "source": [
    "low_lim = Q1 - 1.5 * m1_iqr\n",
    "up_lim = Q3 + 1.5 * m1_iqr\n",
    "print('low_limit is', low_lim)\n",
    "print('up_limit is', up_lim)"
   ]
  },
  {
   "cell_type": "code",
   "execution_count": 62,
   "id": "4b9dc414-8fd2-4566-b49d-e5c7274e5dc5",
   "metadata": {},
   "outputs": [
    {
     "data": {
      "image/png": "[encoded data removed]",
      "text/plain": [
       "<Figure size 640x480 with 1 Axes>"
      ]
     },
     "metadata": {},
     "output_type": "display_data"
    }
   ],
   "source": [
    "mks = df[['M1','M2','M3','M4','M5']]\n",
    "\n",
    "plt.boxplot(mks)\n",
    "plt.title('Boxplot of marks of Students')\n",
    "plt.xlabel('Subject')\n",
    "plt.ylabel('Marks')\n",
    "plt.show()"
   ]
  },
  {
   "cell_type": "code",
   "execution_count": null,
   "id": "2b46b6f2-a191-4891-889e-76707423ab1b",
   "metadata": {},
   "outputs": [],
   "source": []
  }
 ],
 "metadata": {
  "kernelspec": {
   "display_name": "Python 3 (ipykernel)",
   "language": "python",
   "name": "python3"
  },
  "language_info": {
   "codemirror_mode": {
    "name": "ipython",
    "version": 3
   },
   "file_extension": ".py",
   "mimetype": "text/x-python",
   "name": "python",
   "nbconvert_exporter": "python",
   "pygments_lexer": "ipython3",
   "version": "3.11.3"
  }
 },
 "nbformat": 4,
 "nbformat_minor": 5
}
