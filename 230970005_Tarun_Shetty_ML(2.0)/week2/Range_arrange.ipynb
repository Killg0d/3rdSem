{
 "cells": [
  {
   "cell_type": "code",
   "execution_count": 2,
   "id": "735edad1",
   "metadata": {},
   "outputs": [
    {
     "data": {
      "text/plain": [
       "'EXPLORE AND IMPLIMENT RANGE AND ARANGE FUNCTIONS'"
      ]
     },
     "execution_count": 2,
     "metadata": {},
     "output_type": "execute_result"
    }
   ],
   "source": [
    "\"\"\"EXPLORE AND IMPLIMENT RANGE AND ARANGE FUNCTIONS\"\"\""
   ]
  },
  {
   "cell_type": "code",
   "execution_count": 15,
   "id": "38e6523f-4af6-41fe-9ff6-02a115d71778",
   "metadata": {},
   "outputs": [],
   "source": [
    "import numpy as np\n",
    "import math"
   ]
  },
  {
   "cell_type": "code",
   "execution_count": 16,
   "id": "7b0138f9",
   "metadata": {},
   "outputs": [
    {
     "data": {
      "text/plain": [
       "[0, 1, 2, 3, 4]"
      ]
     },
     "execution_count": 16,
     "metadata": {},
     "output_type": "execute_result"
    }
   ],
   "source": [
    "list(range(5))"
   ]
  },
  {
   "cell_type": "code",
   "execution_count": 17,
   "id": "a5c8e217",
   "metadata": {},
   "outputs": [
    {
     "data": {
      "text/plain": [
       "[1, 3, 5, 7, 9, 11, 13, 15, 17, 19]"
      ]
     },
     "execution_count": 17,
     "metadata": {},
     "output_type": "execute_result"
    }
   ],
   "source": [
    "list(range(1,20,2))"
   ]
  },
  {
   "cell_type": "code",
   "execution_count": 18,
   "id": "231278ba",
   "metadata": {},
   "outputs": [],
   "source": [
    "#range(start,stop,step)"
   ]
  },
  {
   "cell_type": "code",
   "execution_count": 19,
   "id": "922f355c",
   "metadata": {},
   "outputs": [],
   "source": [
    "#np.arrange([start],stop[,step],dtype=None) ->numpy.ndarray"
   ]
  },
  {
   "cell_type": "code",
   "execution_count": 21,
   "id": "b4321d4f",
   "metadata": {},
   "outputs": [],
   "source": [
    "x=np.arange(0,math.pi*2,0.5)"
   ]
  },
  {
   "cell_type": "code",
   "execution_count": 22,
   "id": "1524e55e-1a18-4ee6-adbf-6a34953e4dcc",
   "metadata": {},
   "outputs": [
    {
     "data": {
      "text/plain": [
       "array([0. , 0.5, 1. , 1.5, 2. , 2.5, 3. , 3.5, 4. , 4.5, 5. , 5.5, 6. ])"
      ]
     },
     "execution_count": 22,
     "metadata": {},
     "output_type": "execute_result"
    }
   ],
   "source": [
    "x"
   ]
  },
  {
   "cell_type": "code",
   "execution_count": null,
   "id": "d4e87b51-f727-4aba-b730-f8a04db3b13f",
   "metadata": {},
   "outputs": [],
   "source": []
  }
 ],
 "metadata": {
  "kernelspec": {
   "display_name": "Python 3 (ipykernel)",
   "language": "python",
   "name": "python3"
  },
  "language_info": {
   "codemirror_mode": {
    "name": "ipython",
    "version": 3
   },
   "file_extension": ".py",
   "mimetype": "text/x-python",
   "name": "python",
   "nbconvert_exporter": "python",
   "pygments_lexer": "ipython3",
   "version": "3.11.3"
  }
 },
 "nbformat": 4,
 "nbformat_minor": 5
}
