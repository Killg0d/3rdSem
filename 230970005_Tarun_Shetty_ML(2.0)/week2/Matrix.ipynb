{
 "cells": [
  {
   "cell_type": "code",
   "execution_count": 14,
   "id": "c87de7ae",
   "metadata": {},
   "outputs": [],
   "source": [
    "import numpy as np\n",
    "import math\n",
    "import random"
   ]
  },
  {
   "cell_type": "code",
   "execution_count": 15,
   "id": "b68b411c",
   "metadata": {},
   "outputs": [
    {
     "name": "stdout",
     "output_type": "stream",
     "text": [
      "Enter row size:3\n",
      "Enter col size:4\n"
     ]
    }
   ],
   "source": [
    "row=int(input(\"Enter row size:\"))\n",
    "col=int(input(\"Enter col size:\"))"
   ]
  },
  {
   "cell_type": "code",
   "execution_count": 16,
   "id": "de8d18b7",
   "metadata": {},
   "outputs": [
    {
     "name": "stdout",
     "output_type": "stream",
     "text": [
      "1 2 3 4 5 6 7 8 9 0 1 2\n"
     ]
    }
   ],
   "source": [
    "entries=list(map(int,input().split()))"
   ]
  },
  {
   "cell_type": "code",
   "execution_count": 20,
   "id": "b2a59374",
   "metadata": {},
   "outputs": [],
   "source": [
    "arr1=np.array(entries).reshape(row,col)"
   ]
  },
  {
   "cell_type": "code",
   "execution_count": 21,
   "id": "91786886",
   "metadata": {},
   "outputs": [],
   "source": [
    "arr2=np.array(random.sample(range(0,100),12))"
   ]
  },
  {
   "cell_type": "code",
   "execution_count": 35,
   "id": "77d0dae2",
   "metadata": {},
   "outputs": [
    {
     "name": "stdout",
     "output_type": "stream",
     "text": [
      "[[1 2 3 4]\n",
      " [5 6 7 8]\n",
      " [9 0 1 2]]\n",
      "[[50 31 25]\n",
      " [88 22  8]\n",
      " [ 3 67 54]\n",
      " [46 82 70]]\n",
      "(3, 4)\n"
     ]
    }
   ],
   "source": [
    "arr2=arr2.reshape(col,row)\n",
    "print(arr1)\n",
    "print(arr2)\n",
    "print(np.shape(arr1))"
   ]
  },
  {
   "cell_type": "code",
   "execution_count": 36,
   "id": "f07ca87f",
   "metadata": {},
   "outputs": [
    {
     "data": {
      "text/plain": [
       "array([[ 419,  604,  483],\n",
       "       [1167, 1412, 1111],\n",
       "       [ 545,  510,  419]])"
      ]
     },
     "execution_count": 36,
     "metadata": {},
     "output_type": "execute_result"
    }
   ],
   "source": [
    "np.matmul(arr1,arr2)"
   ]
  },
  {
   "cell_type": "code",
   "execution_count": 37,
   "id": "284a0adf",
   "metadata": {},
   "outputs": [],
   "source": [
    "arr2=arr2.reshape(row,col)"
   ]
  },
  {
   "cell_type": "code",
   "execution_count": 39,
   "id": "d6799e9e",
   "metadata": {},
   "outputs": [],
   "source": [
    "result=arr1+arr2"
   ]
  },
  {
   "cell_type": "code",
   "execution_count": 40,
   "id": "d13a6cc0",
   "metadata": {},
   "outputs": [
    {
     "name": "stdout",
     "output_type": "stream",
     "text": [
      "[[51 33 28 92]\n",
      " [27 14 10 75]\n",
      " [63 46 83 72]]\n"
     ]
    }
   ],
   "source": [
    "print(result)"
   ]
  },
  {
   "cell_type": "code",
   "execution_count": 43,
   "id": "a371b3a1",
   "metadata": {},
   "outputs": [
    {
     "name": "stdout",
     "output_type": "stream",
     "text": [
      "[[51 27 63]\n",
      " [33 14 46]\n",
      " [28 10 83]\n",
      " [92 75 72]]\n"
     ]
    }
   ],
   "source": [
    "print(result.T)"
   ]
  },
  {
   "cell_type": "code",
   "execution_count": 62,
   "id": "159c1e71",
   "metadata": {},
   "outputs": [],
   "source": [
    "result=result.reshape(12,)"
   ]
  },
  {
   "cell_type": "code",
   "execution_count": 66,
   "id": "0ebb125f",
   "metadata": {},
   "outputs": [],
   "source": [
    "result=result[:9].reshape(3,3)"
   ]
  },
  {
   "cell_type": "code",
   "execution_count": 67,
   "id": "c983c78b",
   "metadata": {},
   "outputs": [
    {
     "data": {
      "text/plain": [
       "32193.000000000025"
      ]
     },
     "execution_count": 67,
     "metadata": {},
     "output_type": "execute_result"
    }
   ],
   "source": [
    "np.linalg.det(result)"
   ]
  },
  {
   "cell_type": "code",
   "execution_count": 68,
   "id": "54e452d5",
   "metadata": {},
   "outputs": [
    {
     "data": {
      "text/plain": [
       "array([[ 0.02022179,  0.00065232, -0.00913242],\n",
       "       [-0.17569037,  0.09110676,  0.05783866],\n",
       "       [ 0.20594539, -0.10856397, -0.05153294]])"
      ]
     },
     "execution_count": 68,
     "metadata": {},
     "output_type": "execute_result"
    }
   ],
   "source": [
    "np.linalg.inv(result)"
   ]
  },
  {
   "cell_type": "code",
   "execution_count": null,
   "id": "72be3f63",
   "metadata": {},
   "outputs": [],
   "source": []
  }
 ],
 "metadata": {
  "kernelspec": {
   "display_name": "Python 3 (ipykernel)",
   "language": "python",
   "name": "python3"
  },
  "language_info": {
   "codemirror_mode": {
    "name": "ipython",
    "version": 3
   },
   "file_extension": ".py",
   "mimetype": "text/x-python",
   "name": "python",
   "nbconvert_exporter": "python",
   "pygments_lexer": "ipython3",
   "version": "3.11.3"
  }
 },
 "nbformat": 4,
 "nbformat_minor": 5
}
